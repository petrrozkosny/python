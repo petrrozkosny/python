{
 "cells": [
  {
   "cell_type": "markdown",
   "id": "4f45b3af",
   "metadata": {},
   "source": [
    "# Final exercise\n",
    "\n",
    "\n",
    "1 Create a dictionary which contains values from this page table https://worldpopulationreview.com/, 10 countries is enough</br>\n",
    "1.1 There will be key:value of data 'country': 2020 Population from this table.\n",
    "\n",
    "2 Create a pandas dataframe from this dictionary\n",
    "\n",
    "\n",
    "\n"
   ]
  },
  {
   "cell_type": "code",
   "execution_count": null,
   "id": "6142ec7d",
   "metadata": {},
   "outputs": [],
   "source": []
  }
 ],
 "metadata": {
  "kernelspec": {
   "display_name": "Python 3 (ipykernel)",
   "language": "python",
   "name": "python3"
  },
  "language_info": {
   "codemirror_mode": {
    "name": "ipython",
    "version": 3
   },
   "file_extension": ".py",
   "mimetype": "text/x-python",
   "name": "python",
   "nbconvert_exporter": "python",
   "pygments_lexer": "ipython3",
   "version": "3.9.6"
  }
 },
 "nbformat": 4,
 "nbformat_minor": 5
}
