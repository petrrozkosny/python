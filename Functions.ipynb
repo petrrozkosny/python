{
 "cells": [
  {
   "cell_type": "markdown",
   "id": "a501a418",
   "metadata": {},
   "source": [
    "# Functions\n",
    "A function is a block of code which runs only when it is called.\n",
    "There are functions which:\n",
    "<li> does not need any additional information\n",
    "<li> allows user to input additional information\n",
    "<li> demands additional information\n",
    "    \n",
    "Note: In programming languages, the additional info is called an \"arguments\" or \"parameters\".\n",
    "    \n",
    "Functions in python are defined by keyword \"def\" whis is followed by brackets ().\n",
    "If an user wants to call this function, he/she just write the functions name and arguments (if needed)\n",
    "A function can have an output value or it can be without output value.\n",
    "If there is an output value, we can assign it to a variable.\n",
    "\n",
    "For returning a value from function, we use keyword return.\n",
    "    \n",
    "## Functions arguments\n",
    "\n",
    "### Required arguments\n",
    "\n",
    "These arguments are passed to a function in correct positional order. If user does not fill these arguments, a function returns an error.\n",
    "\n",
    "#### Example of a function with one required argument\n",
    "    \n",
    "<code>\n",
    "def appreciate_user(name):\n",
    "    print(f'Great, you\\'ve passed your first argument. I\\'m really proud of you {name}.')\n",
    "</code>\n",
    "\n",
    "### Keyword arguments\n",
    "These arguments are not called by their positions but their name. Unlike positional arguments, keywords arguments can be optional whereas we can set them up a default value.\n",
    " \n",
    "#### Example of function with a keyword argument\n",
    "\n",
    "    \n",
    "<code>\n",
    "def appreciate_user(name = 'Anonymous' ):\n",
    "    print(f'Great, you\\'ve passed your first argument. I\\'m really proud of you {name}.')\n",
    "<code/>\n",
    "    \n",
    "\n",
    "Note: We can use both positional and named arguments whereas the named argument have to follow positionals.\n"
   ]
  },
  {
   "cell_type": "code",
   "execution_count": 8,
   "id": "53f98d82",
   "metadata": {},
   "outputs": [
    {
     "name": "stdout",
     "output_type": "stream",
     "text": [
      "Regarding to the fact you've been learning Python 1, your progress is amazing Petr.\n"
     ]
    }
   ],
   "source": [
    "# Try this code\n",
    "\n",
    "def appreciate_user(name = 'Anonymous' ):\n",
    "    print(f'Great, you\\'ve passed your first argument. I\\'m really proud of you {name}.')\n",
    "\n",
    "\n",
    "def appreciate_user_return_value(name):\n",
    "    return f'Great, you\\'ve passed your first argument. I\\'m really proud of you {name}.'\n",
    "\n",
    "\n",
    "def appreciate_user_keyword_argument (name = None):\n",
    "    if name == None:\n",
    "        print(f'I do not know who you are, you still deserve praise though')\n",
    "    else:\n",
    "        print (f'You are doing a great job today {name}')\n",
    "        \n",
    "\n",
    "def enhanced_appreciation(days_of_experience,name = 'Anonymous'):\n",
    "    \n",
    "    print(f'Regarding to the fact you\\'ve been learning Python {days_of_experience}, your progress is amazing {name}.')\n",
    "        \n",
    "\n",
    "\n",
    "#appreciate_user('Petr')\n",
    "\n",
    "#appreciated_user = appreciate_user_return_value('Petr')\n",
    "#print(appreciated_user)\n",
    "\n",
    "#appreciate_user_keyword_argument(name = 'Petr')\n",
    "\n",
    "#enhanced_appreciation(1,name='Petr')"
   ]
  },
  {
   "cell_type": "markdown",
   "id": "40a3b031",
   "metadata": {},
   "source": [
    "# Excercise\n",
    "\n",
    "1.Create function \"greet\" with a positional argument name.\n",
    "1.1. Use print function for printing a wordk \"Hello\" and the argument's value\n",
    "\n",
    "2.Create function return_greeting with a keyword argument argument name with default value \"anonymous\"\n",
    "2.1. Use keyword return for returning string \"Hello\" and argument's value\n",
    "\n",
    "3.Create function appreciate_user which:\n",
    "3.1. Takes positional argument days</br>\n",
    "3.2. Takes keyword argument \"name\" with default value \"anonymous\"</br>\n",
    "3.3. Takes keyword argument \"language\" with default value None</br>\n",
    "3.4. If an user passes a value into the argument \"language\", print:\n",
    "'Hello {name}, I see you have been learning {language} for {days} days'\n",
    "\n",
    "If an user does not pass a value into the argument language, print:\n",
    "\n",
    "'Hello {name}, I see you have been learning programming for {days} days'</br>\n",
    "    \n",
    "4.Create function praise_user_return which:</br>\n",
    "4.1 Takes positional argument days</br>\n",
    "4.2 Returns string 'I see you are a bit new in this field, keep goiong!' if number of days is less than 365</br>\n",
    "4.3 Returns string 'I see you are brushing up on your skills, good for you!' if number of days is greather or equal365</br>\n",
    "4.4 Create variable feedback and save the function's output to it.</br>\n",
    "\n",
    "\n",
    "\n",
    "\n",
    "\n",
    "\n"
   ]
  },
  {
   "cell_type": "code",
   "execution_count": null,
   "id": "fe5fbd89",
   "metadata": {},
   "outputs": [],
   "source": []
  }
 ],
 "metadata": {
  "kernelspec": {
   "display_name": "Python 3 (ipykernel)",
   "language": "python",
   "name": "python3"
  },
  "language_info": {
   "codemirror_mode": {
    "name": "ipython",
    "version": 3
   },
   "file_extension": ".py",
   "mimetype": "text/x-python",
   "name": "python",
   "nbconvert_exporter": "python",
   "pygments_lexer": "ipython3",
   "version": "3.9.6"
  }
 },
 "nbformat": 4,
 "nbformat_minor": 5
}
