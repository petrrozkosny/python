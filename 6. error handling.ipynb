{
 "cells": [
  {
   "cell_type": "markdown",
   "metadata": {},
   "source": [
    "# Error handling\n",
    "\n",
    "If a python code encounter an error, it terminates. There is a way how to handle it - tell Python what to do if some type of error is encountered. For this porpouse, we can use these statements:\n",
    "<li> try: test this code for an error\n",
    "<li> except: if there is an error, handle it\n",
    "<li> else: if thre is no error, run a specific code\n",
    "<li> finally: regardless of the fact there was an error or not, run this code <br>\n",
    "\n",
    "You can tell Python what to do if a specific type of error occurs.\n",
    "This errors might be:\n",
    "<li> NameError\n",
    "<li> TypeError\n",
    "<li>AssertionError\n",
    "<li>AttributeError\n",
    "<li>EOFError\n",
    "<li>FloatingPointError\n",
    "<li>ImportError\n",
    "<li>ModuleNotFoundError\n",
    "<li>IndexError\n",
    "\n",
    "    "
   ]
  },
  {
   "cell_type": "code",
   "execution_count": 20,
   "metadata": {},
   "outputs": [
    {
     "name": "stdout",
     "output_type": "stream",
     "text": [
      "There is an error, skipping the task\n",
      "There was a TypeError but I handled it\n",
      "You are dividing by zero, skipping the task\n"
     ]
    }
   ],
   "source": [
    "try:\n",
    "    #Testing this code for an error\n",
    "    output = value/3\n",
    "except:\n",
    "    #if there is an error, print this message\n",
    "    print('There is an error, skipping the task')\n",
    "    \n",
    "value1 = 1\n",
    "value2 = '2'\n",
    "\n",
    "try:\n",
    "    #test this code for an error\n",
    "    output = value2 - value1\n",
    "except TypeError:\n",
    "    #if there is TypeError, run this code\n",
    "    value2 = int(value2)\n",
    "    print('There was a TypeError but I handled it')\n",
    "finally:\n",
    "    #At the end, run this code\n",
    "    output = value2 - value1\n",
    "    \n",
    "try:\n",
    "    # test this code for an error\n",
    "    output = 7/0\n",
    "except ZeroDivisionError:\n",
    "    #if there is ZeroDivisionError, run this code\n",
    "\n",
    "    print('You are dividing by zero, skipping the task')\n",
    "except:\n",
    "    #if there is a different type of error, run this code\n",
    "    print('There is an error, skipping the task')\n",
    "else:\n",
    "    #if there was not any erorrs, run this code\n",
    "    print('There was no error')\n",
    "\n",
    "\n"
   ]
  },
  {
   "cell_type": "code",
   "execution_count": null,
   "metadata": {},
   "outputs": [],
   "source": []
  }
 ],
 "metadata": {
  "kernelspec": {
   "display_name": "Python 3",
   "language": "python",
   "name": "python3"
  },
  "language_info": {
   "codemirror_mode": {
    "name": "ipython",
    "version": 3
   },
   "file_extension": ".py",
   "mimetype": "text/x-python",
   "name": "python",
   "nbconvert_exporter": "python",
   "pygments_lexer": "ipython3",
   "version": "3.7.1"
  }
 },
 "nbformat": 4,
 "nbformat_minor": 2
}
