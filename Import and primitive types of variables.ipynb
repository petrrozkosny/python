{
 "cells": [
  {
   "cell_type": "markdown",
   "id": "41d0ff07",
   "metadata": {},
   "source": [
    "Cell below shows modules imported into this file. Python searches for modules of a given name and binds the result of this search to a name in the local scope.\n",
    "\n",
    "Modules can contain submodules whereas name of a submodule name is separated by comma.\n",
    "The way you choose for importing modules influences:\n",
    "- which submodules are accessible\n",
    "- how you can access submodules\n",
    "- how you will call that module or submodule (whether it has an alias or not)\n",
    "\n",
    "\n",
    "\n",
    "<code>import datetime #import a module datetime and make all submodules accessble indirectly\n",
    "import datetime.date # import a submodule of a module. This submodule will be accessible indirectly\n",
    "from datetime import date # import a submodule of a module, in this case, we can access this submodule directly\n",
    "from datetime import * #import all modules and make them accessible directly\n",
    "import datetime as dt # import a module and give it an alias</code>\n"
   ]
  },
  {
   "cell_type": "code",
   "execution_count": 2,
   "id": "f9a183c1",
   "metadata": {},
   "outputs": [],
   "source": [
    "\n",
    "import datetime # import a module and all its submodules which are to reach indirectly\n",
    "import pandas as pd #import a module and all its submodules which, both submodules and a module are accessible via alias pd\n",
    "from calendar import monthrange # import a submodule which is accessible directly \n",
    "\n"
   ]
  },
  {
   "cell_type": "markdown",
   "id": "4228e3ca",
   "metadata": {},
   "source": [
    "We can start to code after all needed modules has been imported sucessfully!\n",
    "In case we want to save some info into memory, we need to create so called variables. \n",
    "You can think of variables as place where info is stored. For example in Excel, if we input a value into a cell, the cell (for example A1) is a variable and the info you typed in is that variable value.\n",
    "Later on, you can access this value by calling the variable name.\n",
    "\n",
    "Creating variables in Python is very easy as we do not need to specify its data type.\n",
    "There some rules though while creating variables, these are:\n",
    "<li>variable name must start with a letter or underscore\n",
    "<li>variable name can only contain alpha-numeric chaacters and underscores\n",
    "<li>varialbe names are case sensitive\n",
    "</p>\n",
    "    \n",
    "    \n",
    "<code>today = datetime.datetime.now()\n",
    "name = 'ICT PRO'\n",
    "number_of_students = 10\n",
    "cups_of_cofee_per_student = 1.3\n",
    "has_anyone_fell_asleep = False </code>\n",
    "\n"
   ]
  },
  {
   "cell_type": "markdown",
   "id": "e598e406",
   "metadata": {},
   "source": [
    "If you try to run the code below, you will be given an error. Python does not force you to select a data type of variable\n",
    "as it will do it for you in background. This does not mean there are no rules though.\n",
    "Feel free to try!\n"
   ]
  },
  {
   "cell_type": "code",
   "execution_count": 7,
   "id": "46938124",
   "metadata": {},
   "outputs": [
    {
     "ename": "TypeError",
     "evalue": "unsupported operand type(s) for -: 'str' and 'int'",
     "output_type": "error",
     "traceback": [
      "\u001b[1;31m---------------------------------------------------------------------------\u001b[0m",
      "\u001b[1;31mTypeError\u001b[0m                                 Traceback (most recent call last)",
      "\u001b[1;32m~\\AppData\\Local\\Temp/ipykernel_8268/1203159517.py\u001b[0m in \u001b[0;36m<module>\u001b[1;34m\u001b[0m\n\u001b[0;32m      2\u001b[0m \u001b[0mnumber_of_students_at_the_end\u001b[0m \u001b[1;33m=\u001b[0m \u001b[1;36m10\u001b[0m\u001b[1;33m\u001b[0m\u001b[1;33m\u001b[0m\u001b[0m\n\u001b[0;32m      3\u001b[0m \u001b[1;33m\u001b[0m\u001b[0m\n\u001b[1;32m----> 4\u001b[1;33m \u001b[0mdifference\u001b[0m \u001b[1;33m=\u001b[0m \u001b[0mname\u001b[0m \u001b[1;33m-\u001b[0m \u001b[0mnumber_of_students\u001b[0m\u001b[1;33m\u001b[0m\u001b[1;33m\u001b[0m\u001b[0m\n\u001b[0m\u001b[0;32m      5\u001b[0m \u001b[0mprint\u001b[0m\u001b[1;33m(\u001b[0m\u001b[0mdifference\u001b[0m\u001b[1;33m)\u001b[0m\u001b[1;33m\u001b[0m\u001b[1;33m\u001b[0m\u001b[0m\n",
      "\u001b[1;31mTypeError\u001b[0m: unsupported operand type(s) for -: 'str' and 'int'"
     ]
    }
   ],
   "source": [
    "\n",
    "number_of_students_at_the_beginning = '10'\n",
    "number_of_students_at_the_end = 10\n",
    "\n",
    "difference = name - number_of_students\n",
    "print(difference)"
   ]
  },
  {
   "cell_type": "markdown",
   "id": "38b8fa6a",
   "metadata": {},
   "source": [
    "The error above tells you that it is not possible to substract number from text.\n",
    "It might be handy to know basic data types which are in Python. \n",
    "These are:\n",
    "\n",
    "<li> text sequence : str\n",
    "<li> boolean : bool\n",
    "<li> integer: int # integer is a whole number\n",
    "<li> float: float #float is a decimal number\n",
    "    \n",
    "In the code which returns and error, a variable number_of_students_at_the_beginning is type of string because the value is in quotes.\n",
    "\n",
    "In the code below, you can check variable types by using a function type()"
   ]
  },
  {
   "cell_type": "code",
   "execution_count": 10,
   "id": "acb4b120",
   "metadata": {},
   "outputs": [
    {
     "data": {
      "text/plain": [
       "str"
      ]
     },
     "execution_count": 10,
     "metadata": {},
     "output_type": "execute_result"
    }
   ],
   "source": [
    "type(number_of_students_at_the_beginning )"
   ]
  },
  {
   "cell_type": "markdown",
   "id": "33cfa4f8",
   "metadata": {},
   "source": [
    "As we really need to know if someone left the course before its end, can you please try to write a code that gives us this info? Just reuse the code that returns error and fix it.\n"
   ]
  },
  {
   "cell_type": "code",
   "execution_count": null,
   "id": "85bf5fd2",
   "metadata": {},
   "outputs": [],
   "source": [
    "# A cell for your code"
   ]
  },
  {
   "cell_type": "markdown",
   "id": "a85972b6",
   "metadata": {},
   "source": [
    "Of course you can specify a variable data type if you want to, for example:\n",
    "\n",
    "<code>agency = str('ICT PRO')\n",
    "number_of_students = int(10)\n",
    "cups_of_coffees_per_student = float(1.6)\n",
    "has_anyone_left = bool(False)</code>"
   ]
  },
  {
   "cell_type": "code",
   "execution_count": 12,
   "id": "91aa9c03",
   "metadata": {},
   "outputs": [
    {
     "data": {
      "text/plain": [
       "16.0"
      ]
     },
     "execution_count": 12,
     "metadata": {},
     "output_type": "execute_result"
    }
   ],
   "source": [
    "agency = str('ICT PRO')\n",
    "number_of_students = int(10)\n",
    "cups_of_coffees_per_student = float(1.6)\n",
    "has_anyone_left = bool(False)\n",
    "\n",
    "number_of_students * cups_of_coffees_per_student #coffee comsumption so far\n"
   ]
  },
  {
   "cell_type": "markdown",
   "id": "3b614e65",
   "metadata": {},
   "source": [
    "What you can find in a code regarding to Python variables\n",
    "\n",
    "<code>agency,number_of_students, has_anyone_left = 'ICT PRO',10,False #assign values to multiple variables in one line\n",
    "has_anyone_left,has_anyone_fell_asleep = False # assign same value to multiple variables\n",
    "</code>\n",
    "\n",
    "\n",
    "You can change a variable value by reasigning the value, for example:\n",
    "<code>\n",
    "has_anyone_fell_asleep = False\n",
    "has_anyone_fell_asleep = True #the current value of this variable is True\n",
    "</code>"
   ]
  },
  {
   "cell_type": "markdown",
   "id": "fdf6cc45",
   "metadata": {},
   "source": [
    "Explore the code below, it contains few usefull info you will need in an excercise that follows.\n",
    "\n",
    "<code>\n",
    "number_of_students = 10\n",
    "cups_of_coffees_per_student = 1.6\n",
    "# we can assign a value that is result of an operation that uses already existing variables\n",
    "cups_of_coffees_drunk_so_far = number_of_students * cups_of_coofees_per_student \n",
    "\n",
    "\n",
    "#In case we want to print/return a value into user interface, we can use function print()\n",
    "#If variables should be present in the returned value, we can handle that by using formatted string literals f'\n",
    "\n",
    "print(f'There is {number_of_students} students in this class, cups of cofeess drunk {cups_of_coffees_drunk_so_far')\n",
    "</code>\n"
   ]
  },
  {
   "cell_type": "markdown",
   "id": "e6ed598f",
   "metadata": {},
   "source": [
    "### Exercise 1\n",
    "\n",
    "1. Count number of attendees in this class and save that value into a variable atendees.\n",
    "2. Count number of chairs in this room and save that value into a variable chairs\n",
    "3. Count how many chairs are left unused\n",
    "4. Print a text which tells a user how many chairs are used and how many are unused.\n",
    "\n"
   ]
  },
  {
   "cell_type": "code",
   "execution_count": null,
   "id": "65e9bbac",
   "metadata": {},
   "outputs": [],
   "source": [
    "#cell for your code"
   ]
  }
 ],
 "metadata": {
  "kernelspec": {
   "display_name": "Python 3 (ipykernel)",
   "language": "python",
   "name": "python3"
  },
  "language_info": {
   "codemirror_mode": {
    "name": "ipython",
    "version": 3
   },
   "file_extension": ".py",
   "mimetype": "text/x-python",
   "name": "python",
   "nbconvert_exporter": "python",
   "pygments_lexer": "ipython3",
   "version": "3.9.6"
  }
 },
 "nbformat": 4,
 "nbformat_minor": 5
}
